{
 "cells": [
  {
   "cell_type": "code",
   "execution_count": 3,
   "metadata": {},
   "outputs": [
    {
     "name": "stdout",
     "output_type": "stream",
     "text": [
      "The sum of all the items in the list is: 15\n"
     ]
    }
   ],
   "source": [
    "# Sample list of numbers\n",
    "numbers = [1, 2, 3, 4, 5]\n",
    "\n",
    "# Use the sum() function to get the sum of all items in the list\n",
    "total = sum(numbers)\n",
    "\n",
    "# Print the result\n",
    "print(\"The sum of all the items in the list is:\", total)\n"
   ]
  },
  {
   "cell_type": "code",
   "execution_count": 4,
   "metadata": {},
   "outputs": [
    {
     "name": "stdout",
     "output_type": "stream",
     "text": [
      "The largest number in the list is: 12\n",
      "The smallest number in the list is: -5\n"
     ]
    }
   ],
   "source": [
    "# Sample list of numbers\n",
    "numbers = [3, 1, 7, 0, -5, 12, 9]\n",
    "\n",
    "# Initialize variables to store the largest and smallest number\n",
    "# Start with the first element in the list as both the largest and smallest\n",
    "largest = numbers[0]\n",
    "smallest = numbers[0]\n",
    "\n",
    "# Loop through the list to compare each element\n",
    "for num in numbers:\n",
    "    if num > largest:\n",
    "        largest = num\n",
    "    if num < smallest:\n",
    "        smallest = num\n",
    "\n",
    "# Print the results\n",
    "print(\"The largest number in the list is:\", largest)\n",
    "print(\"The smallest number in the list is:\", smallest)\n"
   ]
  },
  {
   "cell_type": "code",
   "execution_count": 5,
   "metadata": {},
   "outputs": [
    {
     "name": "stdout",
     "output_type": "stream",
     "text": [
      "Duplicate values in the list: [2, 3, 1]\n"
     ]
    }
   ],
   "source": [
    "# Sample list with some duplicate values\n",
    "numbers = [1, 2, 3, 4, 2, 5, 3, 6, 7, 8, 1]\n",
    "\n",
    "# Initialize an empty list to store duplicates\n",
    "duplicates = []\n",
    "\n",
    "# Create a set to track seen elements\n",
    "seen = set()\n",
    "\n",
    "# Loop through the list to find duplicates\n",
    "for num in numbers:\n",
    "    if num in seen and num not in duplicates:\n",
    "        duplicates.append(num)\n",
    "    else:\n",
    "        seen.add(num)\n",
    "\n",
    "# Print the duplicates\n",
    "print(\"Duplicate values in the list:\", duplicates)\n"
   ]
  },
  {
   "cell_type": "code",
   "execution_count": 6,
   "metadata": {},
   "outputs": [
    {
     "name": "stdout",
     "output_type": "stream",
     "text": [
      "Splitted the said list into two parts:\n",
      "First part: [1, 1, 2]\n",
      "Second part: [3, 4, 4, 5, 1]\n"
     ]
    }
   ],
   "source": [
    "# Function to split the list\n",
    "def split_list(lst, n):\n",
    "    # The first part will contain the first 'n' elements\n",
    "    first_part = lst[:n]\n",
    "    # The second part will contain the remaining elements\n",
    "    second_part = lst[n:]\n",
    "    \n",
    "    return first_part, second_part\n",
    "\n",
    "# Original list\n",
    "numbers = [1, 1, 2, 3, 4, 4, 5, 1]\n",
    "\n",
    "# Length of the first part of the list\n",
    "n = 3\n",
    "\n",
    "# Call the function to split the list\n",
    "first_part, second_part = split_list(numbers, n)\n",
    "\n",
    "# Print the result\n",
    "print(\"Splitted the said list into two parts:\")\n",
    "print(\"First part:\", first_part)\n",
    "print(\"Second part:\", second_part)\n"
   ]
  },
  {
   "cell_type": "code",
   "execution_count": 7,
   "metadata": {},
   "outputs": [
    {
     "name": "stdout",
     "output_type": "stream",
     "text": [
      "Traverse the said list in reverse order:\n",
      "Index 3: black\n",
      "Index 2: white\n",
      "Index 1: green\n",
      "Index 0: red\n"
     ]
    }
   ],
   "source": [
    "# Original list\n",
    "colors = ['red', 'green', 'white', 'black']\n",
    "\n",
    "# Traverse the list in reverse order and print each element with its original index\n",
    "print(\"Traverse the said list in reverse order:\")\n",
    "for index in range(len(colors) - 1, -1, -1):\n",
    "    print(f\"Index {index}: {colors[index]}\")\n"
   ]
  },
  {
   "cell_type": "code",
   "execution_count": 8,
   "metadata": {},
   "outputs": [
    {
     "name": "stdout",
     "output_type": "stream",
     "text": [
      "Mean: 6.2\n"
     ]
    }
   ],
   "source": [
    "# Given dictionary\n",
    "test_dict = {\"A\": 6, \"B\": 9, \"C\": 5, \"D\": 7, \"E\": 4}\n",
    "\n",
    "# Calculate the sum of the values in the dictionary\n",
    "total_sum = sum(test_dict.values())\n",
    "\n",
    "# Calculate the number of items in the dictionary\n",
    "num_items = len(test_dict)\n",
    "\n",
    "# Calculate the mean\n",
    "mean = total_sum / num_items\n",
    "\n",
    "# Print the result\n",
    "print(\"Mean:\", mean)\n"
   ]
  },
  {
   "cell_type": "code",
   "execution_count": 9,
   "metadata": {},
   "outputs": [
    {
     "name": "stdout",
     "output_type": "stream",
     "text": [
      "Concatenated Dictionary: {1: 10, 2: 20, 3: 30, 4: 40, 5: 50, 6: 60}\n"
     ]
    }
   ],
   "source": [
    "# Sample dictionaries\n",
    "dic1 = {1: 10, 2: 20}\n",
    "dic2 = {3: 30, 4: 40}\n",
    "dic3 = {5: 50, 6: 60}\n",
    "\n",
    "# Concatenate the dictionaries using dictionary unpacking (Python 3.5+)\n",
    "merged_dict = {**dic1, **dic2, **dic3}\n",
    "\n",
    "# Print the result\n",
    "print(\"Concatenated Dictionary:\", merged_dict)\n"
   ]
  },
  {
   "cell_type": "code",
   "execution_count": null,
   "metadata": {},
   "outputs": [
    {
     "name": "stdout",
     "output_type": "stream",
     "text": [
      "\n",
      "Items (Key-Value pairs):\n",
      "1: 10\n",
      "2: 20\n",
      "3: 30\n",
      "4: 40\n",
      "5: 50\n",
      "6: 60\n"
     ]
    }
   ],
   "source": [
    "# Sample dictionary\n",
    "dict_num = {1: 10, 2: 20, 3: 30, 4: 40, 5: 50, 6: 60}\n",
    "\n",
    "# Print keys\n",
    "print(\"Keys:\")\n",
    "for key in dict_num:\n",
    "    print(key)\n",
    "\n",
    "# Print values\n",
    "print(\"\\nValues:\")\n",
    "for value in dict_num.values():\n",
    "    print(value)\n",
    "\n",
    "# Print key-value pairs (items)\n",
    "print(\"\\nItems (Key-Value pairs):\")\n",
    "for key, value in dict_num.items():\n",
    "    print(f\"{key}: {value}\")\n"
   ]
  },
  {
   "cell_type": "code",
   "execution_count": 12,
   "metadata": {},
   "outputs": [
    {
     "name": "stdout",
     "output_type": "stream",
     "text": [
      "Dictionary with Empty Items Dropped: {1: 10, 2: 20, 4: 40, 6: 60}\n"
     ]
    }
   ],
   "source": [
    "# Input dictionary\n",
    "input_dict = {1: 10, 2: 20, 3: None, 4: 40, 5: None, 6: 60}\n",
    "\n",
    "# Create a new dictionary by filtering out items where the value is None\n",
    "cleaned_dict = {key: value for key, value in input_dict.items() if value is not None}\n",
    "\n",
    "# Print the dictionary with empty items (None values) removed\n",
    "print(\"Dictionary with Empty Items Dropped:\", cleaned_dict)\n"
   ]
  },
  {
   "cell_type": "code",
   "execution_count": 13,
   "metadata": {},
   "outputs": [
    {
     "name": "stdout",
     "output_type": "stream",
     "text": [
      "The number of times 4 appears in the tuple: 3\n"
     ]
    }
   ],
   "source": [
    "# Input tuple\n",
    "tuplex = (2, 4, 5, 6, 2, 3, 4, 4, 7)\n",
    "\n",
    "# Find the number of times 4 appears in the tuple\n",
    "count_4 = tuplex.count(4)\n",
    "\n",
    "# Print the result\n",
    "print(\"The number of times 4 appears in the tuple:\", count_4)\n"
   ]
  },
  {
   "cell_type": "code",
   "execution_count": 14,
   "metadata": {},
   "outputs": [
    {
     "name": "stdout",
     "output_type": "stream",
     "text": [
      "Converted Tuple: (5, 10, 7, 4, 15, 3)\n"
     ]
    }
   ],
   "source": [
    "# Input list\n",
    "listx = [5, 10, 7, 4, 15, 3]\n",
    "\n",
    "# Convert the list to a tuple\n",
    "tuplex = tuple(listx)\n",
    "\n",
    "# Print the result\n",
    "print(\"Converted Tuple:\", tuplex)\n"
   ]
  },
  {
   "cell_type": "code",
   "execution_count": 15,
   "metadata": {},
   "outputs": [
    {
     "name": "stdout",
     "output_type": "stream",
     "text": [
      "Sum of values in the tuples: 21\n"
     ]
    }
   ],
   "source": [
    "# Input list of tuples\n",
    "tuples_list = [(1, 2), (3, 4), (5, 6)]\n",
    "\n",
    "# Initialize the sum to 0\n",
    "total_sum = 0\n",
    "\n",
    "# Iterate over each tuple in the list\n",
    "for tup in tuples_list:\n",
    "    total_sum += sum(tup)  # Sum of the elements of the tuple and add to the total sum\n",
    "\n",
    "# Print the result\n",
    "print(\"Sum of values in the tuples:\", total_sum)\n"
   ]
  },
  {
   "cell_type": "code",
   "execution_count": 16,
   "metadata": {},
   "outputs": [
    {
     "name": "stdout",
     "output_type": "stream",
     "text": [
      "Employee Records:\n",
      "Name: John Doe\n",
      "Employee ID: 101\n",
      "Department: Human Resources\n",
      "Salary: $60000\n",
      "\n",
      "Name: Alice Smith\n",
      "Employee ID: 102\n",
      "Department: Marketing\n",
      "Salary: $55000\n",
      "\n",
      "Name: Bob Johnson\n",
      "Employee ID: 103\n",
      "Department: Engineering\n",
      "Salary: $75000\n",
      "\n"
     ]
    }
   ],
   "source": [
    "# Employee records in tuples\n",
    "employee1 = (\"John Doe\", 101, \"Human Resources\", 60000)\n",
    "employee2 = (\"Alice Smith\", 102, \"Marketing\", 55000)\n",
    "employee3 = (\"Bob Johnson\", 103, \"Engineering\", 75000)\n",
    "\n",
    "# List of employee tuples\n",
    "employees = [employee1, employee2, employee3]\n",
    "\n",
    "# Print employee records\n",
    "print(\"Employee Records:\")\n",
    "for employee in employees:\n",
    "    name, emp_id, department, salary = employee\n",
    "    print(f\"Name: {name}\")\n",
    "    print(f\"Employee ID: {emp_id}\")\n",
    "    print(f\"Department: {department}\")\n",
    "    print(f\"Salary: ${salary}\")\n",
    "    print()  # Print a blank line for better readability\n"
   ]
  },
  {
   "cell_type": "code",
   "execution_count": 26,
   "metadata": {},
   "outputs": [
    {
     "name": "stdout",
     "output_type": "stream",
     "text": [
      "Unique items from both sets: {70, 40, 10, 50, 20, 60, 30}\n"
     ]
    }
   ],
   "source": [
    "# Input sets\n",
    "set1 = {10, 20, 30, 40, 50}\n",
    "set2 = {30, 40, 50, 60, 70}\n",
    "\n",
    "# Convert the result to a tuple\n",
    "unique_items_tuple = set1.union(set2)\n",
    "\n",
    "# Print the result\n",
    "print(\"Unique items from both sets:\", unique_items_tuple)\n"
   ]
  },
  {
   "cell_type": "code",
   "execution_count": 17,
   "metadata": {},
   "outputs": [
    {
     "name": "stdout",
     "output_type": "stream",
     "text": [
      "Elements in Set A or Set B, but not both: {20, 70, 10, 60}\n"
     ]
    }
   ],
   "source": [
    "# Input sets\n",
    "set1 = {10, 20, 30, 40, 50}\n",
    "set2 = {30, 40, 50, 60, 70}\n",
    "\n",
    "# Get elements present in Set A or B, but not both using symmetric difference\n",
    "result_set = set1 ^ set2  # Symmetric difference\n",
    "\n",
    "# Print the result\n",
    "print(\"Elements in Set A or Set B, but not both:\", result_set)\n"
   ]
  },
  {
   "cell_type": "code",
   "execution_count": 18,
   "metadata": {},
   "outputs": [
    {
     "name": "stdout",
     "output_type": "stream",
     "text": [
      "Common elements: {10}\n"
     ]
    }
   ],
   "source": [
    "# Input sets\n",
    "set1 = {10, 20, 30, 40, 50}\n",
    "set2 = {60, 70, 80, 90, 10}\n",
    "\n",
    "# Get the common elements using intersection\n",
    "common_elements = set1 & set2  # Intersection using '&' operator\n",
    "\n",
    "# Check if there are any common elements\n",
    "if common_elements:\n",
    "    print(\"Common elements:\", common_elements)\n",
    "else:\n",
    "    print(\"No common elements\")\n"
   ]
  },
  {
   "cell_type": "code",
   "execution_count": 19,
   "metadata": {},
   "outputs": [
    {
     "name": "stdout",
     "output_type": "stream",
     "text": [
      "Common elements as tuple: (40, 50, 30)\n"
     ]
    }
   ],
   "source": [
    "# Input sets\n",
    "set1 = {10, 20, 30, 40, 50}\n",
    "set2 = {30, 40, 50, 60, 70}\n",
    "\n",
    "# Get the common elements using intersection\n",
    "common_elements = set1 & set2  # Intersection using '&' operator\n",
    "\n",
    "# Convert the result to a tuple\n",
    "common_elements_tuple = tuple(common_elements)\n",
    "\n",
    "# Print the result\n",
    "print(\"Common elements as tuple:\", common_elements_tuple)\n"
   ]
  }
 ],
 "metadata": {
  "kernelspec": {
   "display_name": "Python 3",
   "language": "python",
   "name": "python3"
  },
  "language_info": {
   "codemirror_mode": {
    "name": "ipython",
    "version": 3
   },
   "file_extension": ".py",
   "mimetype": "text/x-python",
   "name": "python",
   "nbconvert_exporter": "python",
   "pygments_lexer": "ipython3",
   "version": "3.13.0"
  }
 },
 "nbformat": 4,
 "nbformat_minor": 2
}
