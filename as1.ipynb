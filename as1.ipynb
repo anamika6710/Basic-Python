{
 "cells": [
  {
   "cell_type": "code",
   "execution_count": 1,
   "metadata": {},
   "outputs": [
    {
     "name": "stdout",
     "output_type": "stream",
     "text": [
      "The number 5 i5s Odd.\n"
     ]
    }
   ],
   "source": [
    "# Take input from the user\n",
    "number = int(input(\"Enter a number: \"))\n",
    "\n",
    "# Check if the number is even or odd using a ternary operator\n",
    "result = \"Even\" if number % 2 == 0 else \"Odd\"\n",
    "\n",
    "# Print the result\n",
    "print(f\"The number {number} i5s {result}.\")\n"
   ]
  },
  {
   "cell_type": "code",
   "execution_count": 2,
   "metadata": {},
   "outputs": [
    {
     "name": "stdout",
     "output_type": "stream",
     "text": [
      "Before swapping: First number = 12, Second number = 65\n",
      "After swapping: First number = 65, Second number = 12\n"
     ]
    }
   ],
   "source": [
    "# Take input from the user\n",
    "num1 = input(\"Enter the first number: \")\n",
    "num2 = input(\"Enter the second number: \")\n",
    "\n",
    "# Print the original values\n",
    "print(f\"Before swapping: First number = {num1}, Second number = {num2}\")\n",
    "\n",
    "# Swapping the numbers\n",
    "num1, num2 = num2, num1\n",
    "\n",
    "# Print the swapped numbers\n",
    "print(f\"After swapping: First number = {num1}, Second number = {num2}\")\n"
   ]
  },
  {
   "cell_type": "code",
   "execution_count": 3,
   "metadata": {},
   "outputs": [
    {
     "name": "stdout",
     "output_type": "stream",
     "text": [
      "5.0 kilometers is equal to 3.11 miles.\n"
     ]
    }
   ],
   "source": [
    "# Function to convert kilometers to miles\n",
    "def kilometers_to_miles(kilometers):\n",
    "    return kilometers * 0.621371\n",
    "\n",
    "# Take input from the user\n",
    "kilometers = float(input(\"Enter distance in kilometers: \"))\n",
    "\n",
    "# Convert to miles\n",
    "miles = kilometers_to_miles(kilometers)\n",
    "\n",
    "# Print the result\n",
    "print(f\"{kilometers} kilometers is equal to {miles:.2f} miles.\")\n"
   ]
  },
  {
   "cell_type": "code",
   "execution_count": 4,
   "metadata": {},
   "outputs": [
    {
     "name": "stdout",
     "output_type": "stream",
     "text": [
      "The Simple Interest on Rs. 200 for 5 years at 5% per year is Rs. 50.0.\n"
     ]
    }
   ],
   "source": [
    "# Constants\n",
    "principal = 200  # Principal amount in Rs.\n",
    "rate_of_interest = 5  # Rate of interest per year in percentage\n",
    "time = 5  # Time in years\n",
    "\n",
    "# Calculate Simple Interest\n",
    "simple_interest = (principal * rate_of_interest * time) / 100\n",
    "\n",
    "# Print the result\n",
    "print(f\"The Simple Interest on Rs. {principal} for {time} years at {rate_of_interest}% per year is Rs. {simple_interest}.\")\n"
   ]
  }
 ],
 "metadata": {
  "kernelspec": {
   "display_name": "Python 3",
   "language": "python",
   "name": "python3"
  },
  "language_info": {
   "codemirror_mode": {
    "name": "ipython",
    "version": 3
   },
   "file_extension": ".py",
   "mimetype": "text/x-python",
   "name": "python",
   "nbconvert_exporter": "python",
   "pygments_lexer": "ipython3",
   "version": "3.13.0"
  }
 },
 "nbformat": 4,
 "nbformat_minor": 2
}
