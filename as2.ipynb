{
 "cells": [
  {
   "cell_type": "code",
   "execution_count": 2,
   "metadata": {},
   "outputs": [
    {
     "name": "stdout",
     "output_type": "stream",
     "text": [
      "2024 is a leap year.\n"
     ]
    }
   ],
   "source": [
    "# Function to check if a year is a leap year\n",
    "def is_leap_year(year):\n",
    "    if (year % 4 == 0 and year % 100 != 0) or (year % 400 == 0):\n",
    "        return True\n",
    "    else:\n",
    "        return False\n",
    "\n",
    "# Input from the user\n",
    "year = int(input(\"Enter a year to check if it is a leap year: \"))\n",
    "\n",
    "# Check and print the result\n",
    "if is_leap_year(year):\n",
    "    print(f\"{year} is a leap year.\")\n",
    "else:\n",
    "    print(f\"{year} is not a leap year.\")\n"
   ]
  },
  {
   "cell_type": "code",
   "execution_count": 4,
   "metadata": {},
   "outputs": [
    {
     "name": "stdout",
     "output_type": "stream",
     "text": [
      "The largest number among 25.0, 15.0, and 65.0 is: 65.0\n"
     ]
    }
   ],
   "source": [
    "# Function to find the largest of three numbers\n",
    "def find_largest(num1, num2, num3):\n",
    "    if num1 >= num2 and num1 >= num3:\n",
    "        return num1\n",
    "    elif num2 >= num1 and num2 >= num3:\n",
    "        return num2\n",
    "    else:\n",
    "        return num3\n",
    "\n",
    "# Input from the user\n",
    "num1 = float(input(\"Enter the first number: \"))\n",
    "num2 = float(input(\"Enter the second number: \"))\n",
    "num3 = float(input(\"Enter the third number: \"))\n",
    "\n",
    "# Find and print the largest number\n",
    "largest = find_largest(num1, num2, num3)\n",
    "print(f\"The largest number among {num1}, {num2}, and {num3} is: {largest}\")\n"
   ]
  },
  {
   "cell_type": "code",
   "execution_count": 3,
   "metadata": {},
   "outputs": [
    {
     "name": "stdout",
     "output_type": "stream",
     "text": [
      "The number 35.0 is Positive.\n"
     ]
    }
   ],
   "source": [
    "# Function to check if a number is positive, negative, or zero\n",
    "def check_number(num):\n",
    "    if num > 0:\n",
    "        return \"Positive\"\n",
    "    elif num < 0:\n",
    "        return \"Negative\"\n",
    "    else:\n",
    "        return \"Zero\"\n",
    "\n",
    "# Input from the user\n",
    "num = float(input(\"Enter a number: \"))\n",
    "\n",
    "# Check and print the result\n",
    "result = check_number(num)\n",
    "print(f\"The number {num} is {result}.\")\n"
   ]
  },
  {
   "cell_type": "code",
   "execution_count": 6,
   "metadata": {},
   "outputs": [
    {
     "name": "stdout",
     "output_type": "stream",
     "text": [
      "The net amount to be paid is: Rs. 540.00\n"
     ]
    }
   ],
   "source": [
    "# Function to calculate the net amount after applying discounts\n",
    "def calculate_net_amount(product_code, order_amount):\n",
    "    discount = 0\n",
    "\n",
    "    # Determine the discount based on the product code and order amount\n",
    "    if product_code == 1:  # Battery Based Toys\n",
    "        if order_amount > 1000:\n",
    "            discount = 0.10  # 10% discount\n",
    "    elif product_code == 2:  # Key-based Toys\n",
    "        if order_amount > 100:\n",
    "            discount = 0.05  # 5% discount\n",
    "    elif product_code == 3:  # Electrical Charging Based Toys\n",
    "        if order_amount > 500:\n",
    "            discount = 0.10  # 10% discount\n",
    "\n",
    "    # Calculate the net amount\n",
    "    net_amount = order_amount * (1 - discount)\n",
    "    return net_amount\n",
    "\n",
    "# Input from the user\n",
    "product_code = int(input(\"Enter the product code (1: Battery Based, 2: Key-based, 3: Electrical Charging): \"))\n",
    "order_amount = float(input(\"Enter the order amount: \"))\n",
    "\n",
    "# Calculate and print the net amount\n",
    "net_amount = calculate_net_amount(product_code, order_amount)\n",
    "print(f\"The net amount to be paid is: Rs. {net_amount:.2f}\")\n"
   ]
  },
  {
   "cell_type": "code",
   "execution_count": 8,
   "metadata": {},
   "outputs": [
    {
     "name": "stdout",
     "output_type": "stream",
     "text": [
      "The total fare for 120.0 Km is: Rs. 1440.00\n"
     ]
    }
   ],
   "source": [
    "# Function to calculate transport fare based on distance\n",
    "def calculate_fare(distance):\n",
    "    if distance <= 50:\n",
    "        fare = distance * 8  # 8 Rs/Km for 1-50 Km\n",
    "    elif distance <= 100:\n",
    "        fare = distance * 10  # 10 Rs/Km for 51-100 Km\n",
    "    else:\n",
    "        fare = distance * 12  # 12 Rs/Km for > 100 Km\n",
    "    return fare\n",
    "\n",
    "# Input from the user\n",
    "distance = float(input(\"Enter the distance traveled in Km: \"))\n",
    "\n",
    "# Calculate and print the fare\n",
    "fare = calculate_fare(distance)\n",
    "print(f\"The total fare for {distance} Km is: Rs. {fare:.2f}\")\n"
   ]
  }
 ],
 "metadata": {
  "kernelspec": {
   "display_name": "Python 3",
   "language": "python",
   "name": "python3"
  },
  "language_info": {
   "codemirror_mode": {
    "name": "ipython",
    "version": 3
   },
   "file_extension": ".py",
   "mimetype": "text/x-python",
   "name": "python",
   "nbconvert_exporter": "python",
   "pygments_lexer": "ipython3",
   "version": "3.13.0"
  }
 },
 "nbformat": 4,
 "nbformat_minor": 2
}
