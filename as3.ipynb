{
 "cells": [
  {
   "cell_type": "code",
   "execution_count": 1,
   "metadata": {},
   "outputs": [
    {
     "name": "stdout",
     "output_type": "stream",
     "text": [
      "1\n",
      "2\n",
      "3\n",
      "4\n",
      "5\n",
      "6\n",
      "7\n",
      "8\n",
      "9\n",
      "10\n"
     ]
    }
   ],
   "source": [
    "# Print the first 10 natural numbers\n",
    "for number in range(1, 11):\n",
    "    print(number)\n"
   ]
  },
  {
   "cell_type": "code",
   "execution_count": 2,
   "metadata": {},
   "outputs": [
    {
     "name": "stdout",
     "output_type": "stream",
     "text": [
      "\"nitin\" is a palindrome.\n"
     ]
    }
   ],
   "source": [
    "def is_palindrome(s):\n",
    "    # Remove spaces and convert to lowercase for uniformity\n",
    "    cleaned_str = ''.join(s.split()).lower()\n",
    "    # Check if the string is equal to its reverse\n",
    "    return cleaned_str == cleaned_str[::-1]\n",
    "\n",
    "# Input from user\n",
    "input_string = input(\"Enter a string: \")\n",
    "if is_palindrome(input_string):\n",
    "    print(f'\"{input_string}\" is a palindrome.')\n",
    "else:\n",
    "    print(f'\"{input_string}\" is not a palindrome.')\n"
   ]
  },
  {
   "cell_type": "code",
   "execution_count": 3,
   "metadata": {},
   "outputs": [
    {
     "name": "stdout",
     "output_type": "stream",
     "text": [
      "153 is an Armstrong number.\n"
     ]
    }
   ],
   "source": [
    "def is_armstrong_number(num):\n",
    "    # Convert the number to a string to easily iterate over digits\n",
    "    str_num = str(num)\n",
    "    # Calculate the number of digits\n",
    "    num_digits = len(str_num)\n",
    "    \n",
    "    # Calculate the sum of each digit raised to the power of the number of digits\n",
    "    sum_of_powers = sum(int(digit) ** num_digits for digit in str_num)\n",
    "    \n",
    "    # Check if the sum of powers equals the original number\n",
    "    return sum_of_powers == num\n",
    "\n",
    "# Input from user\n",
    "input_number = int(input(\"Enter a number: \"))\n",
    "if is_armstrong_number(input_number):\n",
    "    print(f\"{input_number} is an Armstrong number.\")\n",
    "else:\n",
    "    print(f\"{input_number} is not an Armstrong number.\")\n"
   ]
  },
  {
   "cell_type": "code",
   "execution_count": 4,
   "metadata": {},
   "outputs": [
    {
     "name": "stdout",
     "output_type": "stream",
     "text": [
      "Fibonacci series between 0 and 50:\n",
      "[0, 1, 1, 2, 3, 5, 8, 13, 21, 34]\n"
     ]
    }
   ],
   "source": [
    "def fibonacci_series(limit):\n",
    "    series = []\n",
    "    a, b = 0, 1\n",
    "    while a <= limit:\n",
    "        series.append(a)\n",
    "        a, b = b, a + b\n",
    "    return series\n",
    "\n",
    "# Generate Fibonacci series up to 50\n",
    "fib_series = fibonacci_series(50)\n",
    "\n",
    "# Print the result\n",
    "print(\"Fibonacci series between 0 and 50:\")\n",
    "print(fib_series)\n"
   ]
  },
  {
   "cell_type": "markdown",
   "metadata": {},
   "source": [
    "while loop\n"
   ]
  },
  {
   "cell_type": "code",
   "execution_count": 5,
   "metadata": {},
   "outputs": [
    {
     "name": "stdout",
     "output_type": "stream",
     "text": [
      "The reversed number is: 56431\n"
     ]
    }
   ],
   "source": [
    "# Take input from the user\n",
    "number = int(input(\"Enter a number: \"))\n",
    "\n",
    "# Variable to store the reversed number\n",
    "reversed_number = 0\n",
    "\n",
    "# Loop to reverse the number\n",
    "while number > 0:\n",
    "    digit = number % 10  # Get the last digit\n",
    "    reversed_number = reversed_number * 10 + digit  # Append it to the reversed number\n",
    "    number //= 10  # Remove the last digit from the original number\n",
    "\n",
    "# Print the reversed number\n",
    "print(f\"The reversed number is: {reversed_number}\")\n"
   ]
  },
  {
   "cell_type": "code",
   "execution_count": 6,
   "metadata": {},
   "outputs": [
    {
     "name": "stdout",
     "output_type": "stream",
     "text": [
      "1551 is a palindrome.\n"
     ]
    }
   ],
   "source": [
    "# Function to check if a number is a palindrome\n",
    "def is_palindrome(number):\n",
    "    # Convert the number to a string\n",
    "    str_num = str(number)\n",
    "    # Check if the string is the same forwards and backwards\n",
    "    return str_num == str_num[::-1]\n",
    "\n",
    "# Take input from the user\n",
    "number = int(input(\"Enter a number: \"))\n",
    "\n",
    "# Check if the number is a palindrome\n",
    "if is_palindrome(number):\n",
    "    print(f\"{number} is a palindrome.\")\n",
    "else:\n",
    "    print(f\"{number} is not a palindrome.\")\n"
   ]
  },
  {
   "cell_type": "code",
   "execution_count": 7,
   "metadata": {},
   "outputs": [
    {
     "name": "stdout",
     "output_type": "stream",
     "text": [
      "The factorial of 5 is: 120\n"
     ]
    }
   ],
   "source": [
    "# Function to calculate factorial using a while loop\n",
    "def factorial(n):\n",
    "    result = 1\n",
    "    count = 1\n",
    "    \n",
    "    while count <= n:\n",
    "        result *= count  # Multiply result by count\n",
    "        count += 1      # Increment count\n",
    "    \n",
    "    return result\n",
    "\n",
    "# Take input from the user\n",
    "number = int(input(\"Enter a number: \"))\n",
    "\n",
    "# Check for negative input\n",
    "if number < 0:\n",
    "    print(\"Factorial is not defined for negative numbers.\")\n",
    "else:\n",
    "    # Calculate factorial\n",
    "    fact = factorial(number)\n",
    "    print(f\"The factorial of {number} is: {fact}\")\n"
   ]
  },
  {
   "cell_type": "code",
   "execution_count": 8,
   "metadata": {},
   "outputs": [
    {
     "name": "stdout",
     "output_type": "stream",
     "text": [
      "The sum of all entered numbers is: 20.0\n"
     ]
    }
   ],
   "source": [
    "# Initialize the sum variable\n",
    "total_sum = 0\n",
    "\n",
    "# Loop to accept numbers until user enters 0\n",
    "while True:\n",
    "    number = float(input(\"Enter a number (0 to stop): \"))\n",
    "    \n",
    "    if number == 0:\n",
    "        break  # Exit the loop if the user enters 0\n",
    "    \n",
    "    total_sum += number  # Add the entered number to the total sum\n",
    "\n",
    "# Print the total sum\n",
    "print(f\"The sum of all entered numbers is: {total_sum}\")\n"
   ]
  }
 ],
 "metadata": {
  "kernelspec": {
   "display_name": "Python 3",
   "language": "python",
   "name": "python3"
  },
  "language_info": {
   "codemirror_mode": {
    "name": "ipython",
    "version": 3
   },
   "file_extension": ".py",
   "mimetype": "text/x-python",
   "name": "python",
   "nbconvert_exporter": "python",
   "pygments_lexer": "ipython3",
   "version": "3.13.0"
  }
 },
 "nbformat": 4,
 "nbformat_minor": 2
}
